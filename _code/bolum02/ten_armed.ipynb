{
  "nbformat": 4,
  "nbformat_minor": 0,
  "metadata": {
    "colab": {
      "name": "Pekistirmeli.ipynb",
      "version": "0.3.2",
      "provenance": [],
      "collapsed_sections": [
        "V4BWqZRUzfZK",
        "ohGvK2ej0Cqk"
      ],
      "toc_visible": true
    },
    "kernelspec": {
      "name": "python3",
      "display_name": "Python 3"
    }
  },
  "cells": [
    {
      "metadata": {
        "id": "PqJ-LwKwzI6Q",
        "colab_type": "text"
      },
      "cell_type": "markdown",
      "source": [
        "#DLTR RL Çalışma Grubu\n",
        "#Derin Pekiştirmeli Öğrenmede Çok Kollu Haydutlar problemi"
      ]
    },
    {
      "metadata": {
        "id": "V4BWqZRUzfZK",
        "colab_type": "text"
      },
      "cell_type": "markdown",
      "source": [
        "# Yüklemeler"
      ]
    },
    {
      "metadata": {
        "id": "vvAwFmB_opmY",
        "colab_type": "code",
        "colab": {}
      },
      "cell_type": "code",
      "source": [
        "!pip install numpy\n",
        "!pip install matplotlib"
      ],
      "execution_count": 0,
      "outputs": []
    },
    {
      "metadata": {
        "id": "Pfu-DWszora3",
        "colab_type": "code",
        "colab": {}
      },
      "cell_type": "code",
      "source": [
        "import numpy as np\n",
        "import matplotlib.pyplot as plt"
      ],
      "execution_count": 0,
      "outputs": []
    },
    {
      "metadata": {
        "id": "ohGvK2ej0Cqk",
        "colab_type": "text"
      },
      "cell_type": "markdown",
      "source": [
        "#Ana Kod"
      ]
    },
    {
      "metadata": {
        "id": "EvqWyz3hpCRc",
        "colab_type": "code",
        "colab": {}
      },
      "cell_type": "code",
      "source": [
        "class bandit:\n",
        "    def __init__(self, eps=0, step_size=0., initial=0, variance=1):\n",
        "        self.epsilon = eps\n",
        "        self.step_size = step_size\n",
        "        self.k_arm = 5\n",
        "        self.variance = variance\n",
        "\n",
        "        self.q_true = np.asarray([-0.25, 2, 1, -1.5, 3])\n",
        "        self.q_estimates = np.zeros(self.k_arm) + initial\n",
        "\n",
        "        self.actions_taken = np.zeros(self.k_arm)\n",
        "\n",
        "    def action(self):\n",
        "        if np.random.rand() < self.epsilon:\n",
        "            return np.random.randint(self.k_arm)\n",
        "\n",
        "        return np.argmax(self.q_estimates)\n",
        "\n",
        "    def step(self):\n",
        "        idx = self.action()\n",
        "\n",
        "        self.actions_taken[idx] += 1\n",
        "\n",
        "        reward = self.q_true[idx] + np.random.randn() * self.variance\n",
        "\n",
        "        if self.step_size == 0:\n",
        "            self.q_estimates[idx] = self.q_estimates[idx] + (1.0 / self.actions_taken[idx]) * (reward - self.q_estimates[idx])\n",
        "        else:\n",
        "            self.q_estimates[idx] = self.q_estimates[idx] + self.step_size * (reward - self.q_estimates[idx])\n",
        "\n",
        "        return reward\n",
        "\n",
        "    def change_q_true(self):\n",
        "        self.q_true = np.asarray([1, -0.5, -2, 2, 0.25])\n",
        "\n",
        "    def take_steps(self, count):\n",
        "        for _ in np.arange(count):\n",
        "            self.step()\n",
        "\n",
        "        self.showdown()\n",
        "\n",
        "    def plot(self):\n",
        "        plt.violinplot(positions=np.arange(self.k_arm), dataset=self.q_true + np.random.randn(100,self.k_arm) * self.variance)\n",
        "        plt.plot(self.q_estimates, color='red', marker='o', linestyle='', markersize=5)\n",
        "        plt.show()\n",
        "\n",
        "    def dump(self):\n",
        "        for i in np.arange(self.k_arm):\n",
        "            print('Arm #%u: %u times.' % (i, self.actions_taken[i]))\n",
        "\n",
        "        print('Best Arm: #%u.' % (np.argmax(self.q_true)))\n",
        "\n",
        "    def showdown(self):\n",
        "        self.dump()\n",
        "        self.plot()"
      ],
      "execution_count": 0,
      "outputs": []
    },
    {
      "metadata": {
        "id": "G4KRFE1xqJ4Q",
        "colab_type": "text"
      },
      "cell_type": "markdown",
      "source": [
        "# Greedy Policy "
      ]
    },
    {
      "metadata": {
        "id": "ex-s5_UgpH_u",
        "colab_type": "code",
        "colab": {}
      },
      "cell_type": "code",
      "source": [
        "bnd=bandit() ## Bu satır her defa çalıştırıldığında sıfırlama yapar.\n"
      ],
      "execution_count": 0,
      "outputs": []
    },
    {
      "metadata": {
        "id": "fpv_FXgMp_DJ",
        "colab_type": "text"
      },
      "cell_type": "markdown",
      "source": [
        "Hiç denenmemiş hali."
      ]
    },
    {
      "metadata": {
        "id": "hzIBK2hGpL0j",
        "colab_type": "code",
        "colab": {}
      },
      "cell_type": "code",
      "source": [
        "bnd.take_steps(0) ## Sıfır durumlarını görmek için."
      ],
      "execution_count": 0,
      "outputs": []
    },
    {
      "metadata": {
        "id": "Thzj7hqptCAb",
        "colab_type": "code",
        "colab": {}
      },
      "cell_type": "code",
      "source": [
        "bnd.take_steps(1) ## Her çalıştırıldığında 1 adım yapar."
      ],
      "execution_count": 0,
      "outputs": []
    },
    {
      "metadata": {
        "id": "z7jWMW4ItEHm",
        "colab_type": "code",
        "colab": {}
      },
      "cell_type": "code",
      "source": [
        "bnd.take_steps(4) ## Her çalıştırıldığında 4 adım yapar."
      ],
      "execution_count": 0,
      "outputs": []
    },
    {
      "metadata": {
        "id": "biTvGgnetGzn",
        "colab_type": "code",
        "colab": {}
      },
      "cell_type": "code",
      "source": [
        "bnd.take_steps(1000) ## Her çalıştırıldığında 1000 adım yapar."
      ],
      "execution_count": 0,
      "outputs": []
    },
    {
      "metadata": {
        "id": "huhVOYSqydlm",
        "colab_type": "code",
        "colab": {}
      },
      "cell_type": "code",
      "source": [
        "bnd.take_steps(10000) ## Her çalıştırıldığında 10000 adım yapar."
      ],
      "execution_count": 0,
      "outputs": []
    },
    {
      "metadata": {
        "id": "JG-laiVYqY9E",
        "colab_type": "text"
      },
      "cell_type": "markdown",
      "source": [
        "#  *Epsilon Greedy Policy*"
      ]
    },
    {
      "metadata": {
        "id": "OnXrxF-Cs-Z6",
        "colab_type": "code",
        "colab": {}
      },
      "cell_type": "code",
      "source": [
        "bnd=bandit(eps=0.1)  ## Bu satır her defa çalıştırıldığında sıfırlama yapar."
      ],
      "execution_count": 0,
      "outputs": []
    },
    {
      "metadata": {
        "id": "9JU1d9_ztBjA",
        "colab_type": "code",
        "colab": {}
      },
      "cell_type": "code",
      "source": [
        "bnd.take_steps(0)  ## Sıfır durumlarını görmek için."
      ],
      "execution_count": 0,
      "outputs": []
    },
    {
      "metadata": {
        "id": "V1oD7CGCtNu7",
        "colab_type": "code",
        "colab": {}
      },
      "cell_type": "code",
      "source": [
        "bnd.take_steps(1)  ## Her çalıştırıldığında 1 adım yapar."
      ],
      "execution_count": 0,
      "outputs": []
    },
    {
      "metadata": {
        "id": "-VENiutGtPTn",
        "colab_type": "code",
        "colab": {}
      },
      "cell_type": "code",
      "source": [
        "bnd.take_steps(4) ## Her çalıştırıldığında 4 adım yapar."
      ],
      "execution_count": 0,
      "outputs": []
    },
    {
      "metadata": {
        "id": "IMXAtaovtRNX",
        "colab_type": "code",
        "colab": {}
      },
      "cell_type": "code",
      "source": [
        "bnd.take_steps(1000)  ## Her çalıştırıldığında 1000 adım yapar."
      ],
      "execution_count": 0,
      "outputs": []
    },
    {
      "metadata": {
        "id": "Oo2vDYhcyXHe",
        "colab_type": "code",
        "colab": {}
      },
      "cell_type": "code",
      "source": [
        "bnd.take_steps(10000)  ## Her çalıştırıldığında 10000 adım yapar."
      ],
      "execution_count": 0,
      "outputs": []
    },
    {
      "metadata": {
        "id": "pUFBp9OvwZF3",
        "colab_type": "code",
        "colab": {}
      },
      "cell_type": "code",
      "source": [
        "bnd.change_q_true() ##Lütfen bu kodu çalıştırın denildiğinde çalıştırınız. Diğer durumlarda çalıştırmayınız. (Durağan Olmayan Durumlar)"
      ],
      "execution_count": 0,
      "outputs": []
    },
    {
      "metadata": {
        "id": "3DI5LPGewnpL",
        "colab_type": "code",
        "colab": {}
      },
      "cell_type": "code",
      "source": [
        "bnd.take_steps(0)"
      ],
      "execution_count": 0,
      "outputs": []
    },
    {
      "metadata": {
        "id": "wWXvOOeHwtCY",
        "colab_type": "code",
        "colab": {}
      },
      "cell_type": "code",
      "source": [
        "bnd.take_steps(1)"
      ],
      "execution_count": 0,
      "outputs": []
    },
    {
      "metadata": {
        "id": "QhO6YnnBwteK",
        "colab_type": "code",
        "colab": {}
      },
      "cell_type": "code",
      "source": [
        "bnd.take_steps(4)"
      ],
      "execution_count": 0,
      "outputs": []
    },
    {
      "metadata": {
        "id": "sMJnriKUwt-v",
        "colab_type": "code",
        "colab": {}
      },
      "cell_type": "code",
      "source": [
        "bnd.take_steps(1000)"
      ],
      "execution_count": 0,
      "outputs": []
    },
    {
      "metadata": {
        "id": "MtPY4TM4yUN9",
        "colab_type": "code",
        "colab": {}
      },
      "cell_type": "code",
      "source": [
        "bnd.take_steps(10000)"
      ],
      "execution_count": 0,
      "outputs": []
    },
    {
      "metadata": {
        "id": "WGfCsrGdtYlX",
        "colab_type": "text"
      },
      "cell_type": "markdown",
      "source": [
        "# Epsilon Greedy StepSize"
      ]
    },
    {
      "metadata": {
        "id": "YCNElH1guPas",
        "colab_type": "code",
        "colab": {}
      },
      "cell_type": "code",
      "source": [
        "bnd=bandit(eps=0.1,step_size=0.1) ## Bu satır her defa çalıştırıldığında sıfırlama yapar."
      ],
      "execution_count": 0,
      "outputs": []
    },
    {
      "metadata": {
        "id": "mUqFyFDLudnI",
        "colab_type": "code",
        "colab": {}
      },
      "cell_type": "code",
      "source": [
        "bnd.take_steps(0)"
      ],
      "execution_count": 0,
      "outputs": []
    },
    {
      "metadata": {
        "id": "ppjBnH1QufoD",
        "colab_type": "code",
        "colab": {}
      },
      "cell_type": "code",
      "source": [
        "bnd.take_steps(1)"
      ],
      "execution_count": 0,
      "outputs": []
    },
    {
      "metadata": {
        "id": "cRfH2z5BugVd",
        "colab_type": "code",
        "colab": {}
      },
      "cell_type": "code",
      "source": [
        "bnd.take_steps(4)"
      ],
      "execution_count": 0,
      "outputs": []
    },
    {
      "metadata": {
        "id": "KLwfcW-luhfd",
        "colab_type": "code",
        "colab": {}
      },
      "cell_type": "code",
      "source": [
        "bnd.take_steps(1000)"
      ],
      "execution_count": 0,
      "outputs": []
    },
    {
      "metadata": {
        "id": "ysKzKzmjySci",
        "colab_type": "code",
        "colab": {}
      },
      "cell_type": "code",
      "source": [
        "bnd.take_steps(10000)"
      ],
      "execution_count": 0,
      "outputs": []
    },
    {
      "metadata": {
        "id": "Xg17LjVcxqrj",
        "colab_type": "code",
        "colab": {}
      },
      "cell_type": "code",
      "source": [
        "bnd.change_q_true() ##Lütfen bu kodu çalıştırın denildiğinde çalıştırınız. Diğer durumlarda çalıştırmayınız."
      ],
      "execution_count": 0,
      "outputs": []
    },
    {
      "metadata": {
        "id": "OmbyYoSSxw84",
        "colab_type": "code",
        "colab": {}
      },
      "cell_type": "code",
      "source": [
        "bnd.take_steps(0)"
      ],
      "execution_count": 0,
      "outputs": []
    },
    {
      "metadata": {
        "id": "-d73rzinxxkq",
        "colab_type": "code",
        "colab": {}
      },
      "cell_type": "code",
      "source": [
        "bnd.take_steps(1)"
      ],
      "execution_count": 0,
      "outputs": []
    },
    {
      "metadata": {
        "id": "KSdjQxALxyA5",
        "colab_type": "code",
        "colab": {}
      },
      "cell_type": "code",
      "source": [
        "bnd.take_steps(4)"
      ],
      "execution_count": 0,
      "outputs": []
    },
    {
      "metadata": {
        "id": "qurNaq_ixyZy",
        "colab_type": "code",
        "colab": {}
      },
      "cell_type": "code",
      "source": [
        "bnd.take_steps(1000)"
      ],
      "execution_count": 0,
      "outputs": []
    },
    {
      "metadata": {
        "id": "KpRHqiDOyOEs",
        "colab_type": "code",
        "colab": {}
      },
      "cell_type": "code",
      "source": [
        "bnd.take_steps(10000)"
      ],
      "execution_count": 0,
      "outputs": []
    },
    {
      "metadata": {
        "id": "xJJ-MbwpukeM",
        "colab_type": "text"
      },
      "cell_type": "markdown",
      "source": [
        "# Optimistic Initial Values - İyimser Başlanğıç Değerleri"
      ]
    },
    {
      "metadata": {
        "id": "hc5y6tN5uvtD",
        "colab_type": "code",
        "colab": {}
      },
      "cell_type": "code",
      "source": [
        "bnd=bandit(initial=5) ## Bu satır her defa çalıştırıldığında sıfırlama yapar."
      ],
      "execution_count": 0,
      "outputs": []
    },
    {
      "metadata": {
        "id": "krydkz97u1fF",
        "colab_type": "code",
        "colab": {}
      },
      "cell_type": "code",
      "source": [
        "bnd.take_steps(0)"
      ],
      "execution_count": 0,
      "outputs": []
    },
    {
      "metadata": {
        "id": "LLqWrramu51N",
        "colab_type": "code",
        "colab": {}
      },
      "cell_type": "code",
      "source": [
        "bnd.take_steps(1)"
      ],
      "execution_count": 0,
      "outputs": []
    },
    {
      "metadata": {
        "id": "WwNM0r5lu9lP",
        "colab_type": "code",
        "colab": {}
      },
      "cell_type": "code",
      "source": [
        "bnd.take_steps(4)"
      ],
      "execution_count": 0,
      "outputs": []
    },
    {
      "metadata": {
        "id": "qXrkmZRAu_Jc",
        "colab_type": "code",
        "colab": {}
      },
      "cell_type": "code",
      "source": [
        "bnd.take_steps(1000) ## Her çalıştırıldığında 1000 adım yapar."
      ],
      "execution_count": 0,
      "outputs": []
    },
    {
      "metadata": {
        "id": "R0ssBshoysog",
        "colab_type": "code",
        "colab": {}
      },
      "cell_type": "code",
      "source": [
        "bnd.take_steps(10000) ## Her çalıştırıldığında 10000 adım yapar."
      ],
      "execution_count": 0,
      "outputs": []
    }
  ]
}